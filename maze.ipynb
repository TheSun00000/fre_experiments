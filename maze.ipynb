{
 "cells": [
  {
   "cell_type": "code",
   "execution_count": 1,
   "metadata": {},
   "outputs": [],
   "source": [
    "import numpy as np\n",
    "import gymnasium as gym\n",
    "from gymnasium import spaces\n",
    "import random\n",
    "from collections import deque\n",
    "import matplotlib.pyplot as plt\n",
    "\n",
    "from mazelib import Maze\n",
    "from mazelib.generate.BacktrackingGenerator import BacktrackingGenerator\n",
    "\n",
    "from tqdm import tqdm\n",
    "\n",
    "from IPython.display import clear_output"
   ]
  },
  {
   "cell_type": "code",
   "execution_count": 35,
   "metadata": {},
   "outputs": [],
   "source": [
    "# m = Maze()\n",
    "# m.generator = BacktrackingGenerator(10 // 2 + 1, 10 // 2 + 1)  # 10x10 grid maze\n",
    "# m.generate()\n",
    "# default_maze_array = np.array(m.grid, dtype=np.float32)\n",
    "\n",
    "# default_maze_array = np.array([\n",
    "#     [1., 1., 1., 1., 1., 1., 1., 1., 1., 1., 1., 1., 1.],\n",
    "#     [1., 0., 0., 0., 0., 0., 0., 0., 0., 0., 0., 0., 1.],\n",
    "#     [1., 0., 1., 1., 1., 1., 1., 1., 1., 1., 1., 0., 1.],\n",
    "#     [1., 0., 1., 0., 0., 0., 0., 0., 1., 0., 0., 0., 1.],\n",
    "#     [1., 0., 1., 0., 1., 1., 1., 0., 1., 0., 1., 0., 1.],\n",
    "#     [1., 0., 1., 0., 1., 0., 1., 0., 0., 0., 1., 0., 1.],\n",
    "#     [1., 1., 1., 0., 1., 0., 1., 1., 1., 1., 1., 0., 1.],\n",
    "#     [1., 0., 0., 0., 1., 0., 0., 0., 0., 0., 1., 0., 1.],\n",
    "#     [1., 1., 1., 1., 1., 0., 1., 1., 1., 0., 1., 0., 1.],\n",
    "#     [1., 0., 0., 0., 1., 0., 0., 0., 1., 0., 0., 0., 1.],\n",
    "#     [1., 0., 1., 0., 1., 1., 1., 0., 1., 1., 1., 1., 1.],\n",
    "#     [1., 0., 1., 0., 0., 0., 0., 0., 0., 0., 0., 0., 1.],\n",
    "#     [1., 1., 1., 1., 1., 1., 1., 1., 1., 1., 1., 1., 1.]\n",
    "# ])\n",
    "\n",
    "# default_maze_array = np.array([\n",
    "#     [1., 1., 1., 1., 1., 1., 1., 1., 1., 1., 1., 1.],\n",
    "#     [1., 0., 0., 1., 0., 0., 0., 1., 0., 0., 0., 1.],\n",
    "#     [1., 1., 0., 1., 1., 1., 1., 1., 1., 1., 1., 1.],\n",
    "#     [1., 0., 1., 0., 0., 0., 0., 0., 1., 0., 0., 1.],\n",
    "#     [1., 0., 1., 0., 1., 1., 1., 0., 1., 0., 1., 1.],\n",
    "#     [1., 0., 1., 0., 1., 0., 1., 0., 0., 0., 1., 1.],\n",
    "#     [1., 0., 1., 0., 1., 0., 1., 1., 1., 1., 1., 1.],\n",
    "#     [1., 0., 0., 0., 1., 0., 0., 0., 0., 0., 1., 1.],\n",
    "#     [1., 1., 1., 1., 1., 1., 1., 1., 1., 1., 1., 1.],\n",
    "# ])\n",
    "\n",
    "# default_maze_array = np.array([\n",
    "#     [1., 1., 1., 1., 1., 1., 1., 1., 1., 1., 1., 1., 1.],\n",
    "#     [1., 0., 0., 0., 0., 0., 0., 0., 0., 0., 0., 0., 1.],\n",
    "#     [1., 0., 0., 0., 0., 0., 0., 0., 0., 0., 0., 0., 1.],\n",
    "#     [1., 0., 0., 0., 0., 0., 0., 0., 0., 0., 0., 0., 1.],\n",
    "#     [1., 0., 0., 0., 0., 0., 0., 0., 0., 0., 0., 0., 1.],\n",
    "#     [1., 0., 0., 0., 0., 0., 0., 0., 0., 0., 0., 0., 1.],\n",
    "#     [1., 0., 0., 0., 0., 0., 0., 0., 0., 0., 0., 0., 1.],\n",
    "#     [1., 0., 0., 0., 0., 0., 0., 0., 0., 0., 0., 0., 1.],\n",
    "#     [1., 0., 0., 0., 0., 0., 0., 0., 0., 0., 0., 0., 1.],\n",
    "#     [1., 0., 0., 0., 0., 0., 0., 0., 0., 0., 0., 0., 1.],\n",
    "#     [1., 0., 0., 0., 0., 0., 0., 0., 0., 0., 0., 0., 1.],\n",
    "#     [1., 0., 0., 0., 0., 0., 0., 0., 0., 0., 0., 0., 1.],\n",
    "#     [1., 1., 1., 1., 1., 1., 1., 1., 1., 1., 1., 1., 1.]\n",
    "# ])"
   ]
  },
  {
   "cell_type": "code",
   "execution_count": 36,
   "metadata": {},
   "outputs": [
    {
     "ename": "IndexError",
     "evalue": "index 11 is out of bounds for axis 0 with size 9",
     "output_type": "error",
     "traceback": [
      "\u001b[0;31m---------------------------------------------------------------------------\u001b[0m",
      "\u001b[0;31mIndexError\u001b[0m                                Traceback (most recent call last)",
      "Cell \u001b[0;32mIn[36], line 155\u001b[0m\n\u001b[1;32m    153\u001b[0m env \u001b[38;5;241m=\u001b[39m GridMazeEnv(size\u001b[38;5;241m=\u001b[39m\u001b[38;5;241m10\u001b[39m)\n\u001b[1;32m    154\u001b[0m state \u001b[38;5;241m=\u001b[39m env\u001b[38;5;241m.\u001b[39mreset()\n\u001b[0;32m--> 155\u001b[0m \u001b[43menv\u001b[49m\u001b[38;5;241;43m.\u001b[39;49m\u001b[43mvisualize_maze\u001b[49m\u001b[43m(\u001b[49m\u001b[43m)\u001b[49m\n",
      "Cell \u001b[0;32mIn[36], line 137\u001b[0m, in \u001b[0;36mGridMazeEnv.visualize_maze\u001b[0;34m(self)\u001b[0m\n\u001b[1;32m    135\u001b[0m img[grid_copy \u001b[38;5;241m==\u001b[39m \u001b[38;5;241m1\u001b[39m] \u001b[38;5;241m=\u001b[39m [\u001b[38;5;241m0\u001b[39m, \u001b[38;5;241m0\u001b[39m, \u001b[38;5;241m0\u001b[39m]  \u001b[38;5;66;03m# Walls (black)\u001b[39;00m\n\u001b[1;32m    136\u001b[0m img[grid_copy \u001b[38;5;241m==\u001b[39m \u001b[38;5;241m0\u001b[39m] \u001b[38;5;241m=\u001b[39m [\u001b[38;5;241m1\u001b[39m, \u001b[38;5;241m1\u001b[39m, \u001b[38;5;241m1\u001b[39m]  \u001b[38;5;66;03m# Free space (white)\u001b[39;00m\n\u001b[0;32m--> 137\u001b[0m \u001b[43mimg\u001b[49m\u001b[43m[\u001b[49m\u001b[38;5;28;43mself\u001b[39;49m\u001b[38;5;241;43m.\u001b[39;49m\u001b[43mstart\u001b[49m\u001b[43m]\u001b[49m \u001b[38;5;241m=\u001b[39m [\u001b[38;5;241m1\u001b[39m, \u001b[38;5;241m0\u001b[39m, \u001b[38;5;241m0\u001b[39m]  \u001b[38;5;66;03m# Start (red)\u001b[39;00m\n\u001b[1;32m    138\u001b[0m img[\u001b[38;5;28mself\u001b[39m\u001b[38;5;241m.\u001b[39mgoal] \u001b[38;5;241m=\u001b[39m [\u001b[38;5;241m0\u001b[39m, \u001b[38;5;241m1\u001b[39m, \u001b[38;5;241m0\u001b[39m]  \u001b[38;5;66;03m# Goal (green)\u001b[39;00m\n\u001b[1;32m    139\u001b[0m img[\u001b[38;5;28mself\u001b[39m\u001b[38;5;241m.\u001b[39magent_pos] \u001b[38;5;241m=\u001b[39m [\u001b[38;5;241m0\u001b[39m, \u001b[38;5;241m0\u001b[39m, \u001b[38;5;241m1\u001b[39m]  \u001b[38;5;66;03m# Agent (blue)\u001b[39;00m\n",
      "\u001b[0;31mIndexError\u001b[0m: index 11 is out of bounds for axis 0 with size 9"
     ]
    },
    {
     "data": {
      "text/plain": [
       "<Figure size 600x600 with 0 Axes>"
      ]
     },
     "metadata": {},
     "output_type": "display_data"
    }
   ],
   "source": [
    "def shortest_path(maze, start, goal):\n",
    "    \n",
    "        directions = [(-1, 0), (1, 0), (0, -1), (0, 1)]\n",
    "        # Get the dimensions of the maze\n",
    "        \n",
    "        rows, cols = len(maze), len(maze[0])\n",
    "        \n",
    "        # Initialize a queue for BFS and a set for visited cells\n",
    "        queue = deque([(start, [start])])  # stores (current_position, path_taken)\n",
    "        visited = set()\n",
    "        visited.add(start)\n",
    "        \n",
    "        while queue:\n",
    "            current, path = queue.popleft()\n",
    "            \n",
    "            # If we reach the goal, return the path\n",
    "            if current == goal:\n",
    "                return path\n",
    "            \n",
    "            # Explore the neighbors (up, down, left, right)\n",
    "            for direction in directions:\n",
    "                new_row, new_col = current[0] + direction[0], current[1] + direction[1]\n",
    "                \n",
    "                # Check if the new position is within bounds and is not a wall\n",
    "                new_position = (new_row, new_col)\n",
    "                if 0 <= new_row < rows and 0 <= new_col < cols and (maze[new_row][new_col] == 0 or new_position == goal):\n",
    "                    \n",
    "                    # If the position hasn't been visited, add to the queue\n",
    "                    if new_position not in visited:\n",
    "                        visited.add(new_position)\n",
    "                        queue.append((new_position, path + [new_position]))\n",
    "        \n",
    "        return None  # If no path is found\n",
    "        \n",
    "\n",
    "\n",
    "class GridMazeEnv(gym.Env):\n",
    "    def __init__(self, size=5, start=None, goal=None):\n",
    "        super(GridMazeEnv, self).__init__()\n",
    "        self.size = size\n",
    "        \n",
    "        self.action_space = spaces.Discrete(4)  # 0: Up, 1: Down, 2: Left, 3: Right\n",
    "        self.observation_space = spaces.Box(\n",
    "            low=0, high=np.inf, \n",
    "            # shape=(2 + 2 + (size - size%2 + 3)**2,), \n",
    "            shape=(2 + 2,), \n",
    "            dtype=np.float32\n",
    "        )\n",
    "        \n",
    "        self.m = Maze()\n",
    "        self.m.generator = BacktrackingGenerator(self.size // 2 + 1, self.size // 2 + 1)\n",
    "    \n",
    "    def generate_solvable_maze(self):\n",
    "        \n",
    "        # self.m.generate()\n",
    "        # maze_array = np.array(self.m.grid, dtype=np.float32)\n",
    "        maze_array = default_maze_array\n",
    "        return maze_array\n",
    "    \n",
    "    def vectorize_state(self, state):\n",
    "        vec = []\n",
    "        for k, v in state.items():\n",
    "            if not isinstance(v, np.ndarray):\n",
    "                v = np.array(v)\n",
    "            vec.append(v.reshape(-1))\n",
    "        vec = np.concatenate(vec)\n",
    "        return vec\n",
    "    \n",
    "    def reset(self, seed=None, options=None):\n",
    "        self.grid = self.generate_solvable_maze()\n",
    "        \n",
    "        start, goal = None, None\n",
    "        # start, goal = (0, 0), (10, 10)\n",
    "        if start is None:\n",
    "            start = (random.randint(0, self.size//2*2), random.randint(0, self.size//2*2))\n",
    "        \n",
    "        if goal is None:\n",
    "            goal = (random.randint(0, self.size//2*2), random.randint(0, self.size//2*2))\n",
    "            \n",
    "        self.start = (start[0]+1, start[1]+1)\n",
    "        self.goal = (goal[0]+1, goal[1]+1)\n",
    "        self.agent_pos = self.start\n",
    "        \n",
    "        self.step_count = 0\n",
    "        \n",
    "        state = {\n",
    "            'position': self.agent_pos,\n",
    "            'goal': self.goal,\n",
    "            # 'grid': self.grid.copy(),\n",
    "        }\n",
    "        \n",
    "        return self.vectorize_state(state), {}\n",
    "    \n",
    "    def step(self, action):\n",
    "        x, y = self.agent_pos\n",
    "        boundary = self.grid.shape[0] - 1\n",
    "        if action == 0 and x > 0 and (self.grid[x - 1, y] == 0 or ((x - 1, y) == self.goal)):  # Up\n",
    "            x -= 1\n",
    "        elif action == 1 and x < boundary and (self.grid[x + 1, y] == 0 or ((x + 1, y) == self.goal)):  # Down\n",
    "            x += 1\n",
    "        elif action == 2 and y > 0 and (self.grid[x, y - 1] == 0 or ((x, y - 1) == self.goal)):  # Left\n",
    "            y -= 1\n",
    "        elif action == 3 and y < boundary and (self.grid[x, y + 1] == 0 or ((x, y + 1) == self.goal)):  # Right\n",
    "            y += 1\n",
    "        \n",
    "        self.agent_pos = (x, y)\n",
    "        done = self.agent_pos == self.goal\n",
    "        reward = 1 if done else 0\n",
    "        reward = 1 - np.linalg.norm(np.array(self.agent_pos) - np.array(self.goal))\n",
    "        self.step_count += 1\n",
    "        \n",
    "        state = {\n",
    "            'position': self.agent_pos,\n",
    "            'goal': self.goal,\n",
    "            # 'grid': self.grid.copy(),\n",
    "        }\n",
    "        \n",
    "        truncated = None\n",
    "        \n",
    "        return self.vectorize_state(state), reward, done, truncated, {}\n",
    "    \n",
    "    def render(self):\n",
    "        grid_copy = self.grid.copy()\n",
    "        x, y = self.agent_pos\n",
    "        grid_copy[x, y] = 2  # Mark agent position\n",
    "        grid_copy[self.goal] = 3  # Mark goal\n",
    "        print(grid_copy)\n",
    "    \n",
    "    def visualize_maze(self):\n",
    "        plt.figure(figsize=(6, 6))\n",
    "        grid_copy = self.grid.copy()\n",
    "        \n",
    "        # Create an RGB image\n",
    "        img = np.zeros((grid_copy.shape[0], grid_copy.shape[1], 3))\n",
    "        img[grid_copy == 1] = [0, 0, 0]  # Walls (black)\n",
    "        img[grid_copy == 0] = [1, 1, 1]  # Free space (white)\n",
    "        img[self.start] = [1, 0, 0]  # Start (red)\n",
    "        img[self.goal] = [0, 1, 0]  # Goal (green)\n",
    "        img[self.agent_pos] = [0, 0, 1]  # Agent (blue)\n",
    "        \n",
    "        plt.imshow(img)\n",
    "        plt.xticks([])\n",
    "        plt.yticks([])\n",
    "        plt.show()\n",
    "        \n",
    "        \n",
    "    def shortest_path(self):\n",
    "        return shortest_path(self.grid, self.start, self.goal)\n",
    "        \n",
    "    \n",
    "\n",
    "# Example usage:\n",
    "env = GridMazeEnv(size=10)\n",
    "state = env.reset()\n",
    "env.visualize_maze()"
   ]
  },
  {
   "cell_type": "code",
   "execution_count": 14,
   "metadata": {},
   "outputs": [],
   "source": [
    "# 1 - np.linalg.norm(np.array(env.envs[0].unwrapped.agent_pos) - np.array(env.envs[0].unwrapped.goal))"
   ]
  },
  {
   "cell_type": "code",
   "execution_count": 15,
   "metadata": {},
   "outputs": [],
   "source": [
    "# env.envs[0].unwrapped.agent_pos, env.envs[0].unwrapped.goal"
   ]
  },
  {
   "cell_type": "code",
   "execution_count": 16,
   "metadata": {},
   "outputs": [],
   "source": [
    "class AutoResetWrapper(gym.Wrapper):\n",
    "    def __init__(self, env):\n",
    "        super().__init__(env)\n",
    "\n",
    "    def step(self, action):\n",
    "        next_state, reward, done, info = self.env.step(action)\n",
    "        \n",
    "        # Automatically reset if the episode ends\n",
    "        if done:\n",
    "            self.env.reset()\n",
    "        \n",
    "        return next_state, reward, done, info"
   ]
  },
  {
   "cell_type": "code",
   "execution_count": 17,
   "metadata": {},
   "outputs": [],
   "source": [
    "def make_env():\n",
    "    env = GridMazeEnv(size=10)\n",
    "    env = gym.wrappers.TimeLimit(env, max_episode_steps=100)\n",
    "    return env\n",
    "\n",
    "env = gym.vector.SyncVectorEnv([lambda: make_env() for _ in range(16)])"
   ]
  },
  {
   "cell_type": "markdown",
   "metadata": {},
   "source": [
    "## Get expert paths:"
   ]
  },
  {
   "cell_type": "code",
   "execution_count": 18,
   "metadata": {},
   "outputs": [],
   "source": [
    "# solutions = []\n",
    "\n",
    "# for i in tqdm(range(1000)):\n",
    "#     # action = env.action_space.sample()\n",
    "#     # state, reward, done, truncated, info = env.step(action)\n",
    "\n",
    "#     state, _ = multi_env.reset()\n",
    "#     for env in multi_env.envs:\n",
    "#         sol = {}\n",
    "#         sol['start'] = env.unwrapped.start\n",
    "#         sol['goal'] = env.unwrapped.goal\n",
    "#         sol['path'] = env.unwrapped.shortest_path()\n",
    "#         # sol['grid'] = env.unwrapped.grid.astype(int).tolist()\n",
    "#         solutions.append(sol)\n",
    "\n",
    "#     # break"
   ]
  },
  {
   "cell_type": "code",
   "execution_count": 19,
   "metadata": {},
   "outputs": [],
   "source": [
    "# import json\n",
    "\n",
    "# with open('N=1M_size=10.json', 'w') as file:\n",
    "#     json.dump(solutions, file)"
   ]
  },
  {
   "cell_type": "markdown",
   "metadata": {},
   "source": [
    "## DQN:"
   ]
  },
  {
   "cell_type": "code",
   "execution_count": 20,
   "metadata": {},
   "outputs": [
    {
     "data": {
      "text/plain": [
       "'cuda'"
      ]
     },
     "execution_count": 20,
     "metadata": {},
     "output_type": "execute_result"
    }
   ],
   "source": [
    "import torch\n",
    "import torch.nn as nn\n",
    "import torch.optim as optim\n",
    "import random\n",
    "import numpy as np\n",
    "from collections import deque\n",
    "\n",
    "device = 'cuda' if torch.cuda.is_available else 'cpu'\n",
    "device"
   ]
  },
  {
   "cell_type": "code",
   "execution_count": 21,
   "metadata": {},
   "outputs": [],
   "source": [
    "def moving_average(rewards, window_size=10):\n",
    "    if len(rewards) < window_size*2:\n",
    "        return rewards\n",
    "    return np.convolve(rewards, np.ones(window_size) / window_size, mode=\"valid\")"
   ]
  },
  {
   "cell_type": "code",
   "execution_count": 22,
   "metadata": {},
   "outputs": [],
   "source": [
    "class DQN(nn.Module):\n",
    "    def __init__(self, state_dim, action_dim):\n",
    "        super(DQN, self).__init__()\n",
    "        self.fc1 = nn.Linear(state_dim, 128)\n",
    "        self.fc2 = nn.Linear(128, 128)\n",
    "        self.fc3 = nn.Linear(128, action_dim)\n",
    "    \n",
    "    def forward(self, x):\n",
    "        x = torch.relu(self.fc1(x))\n",
    "        x = torch.relu(self.fc2(x))\n",
    "        return self.fc3(x)\n"
   ]
  },
  {
   "cell_type": "code",
   "execution_count": 23,
   "metadata": {},
   "outputs": [],
   "source": [
    "# Hyperparameters\n",
    "GAMMA = 0.99\n",
    "LR = 1e-3\n",
    "BATCH_SIZE = 64\n",
    "MEMORY_SIZE = 10000\n",
    "TARGET_UPDATE = 10\n",
    "EPSILON_START = 1.0\n",
    "EPSILON_END = 0.05\n",
    "EPSILON_DECAY = 1000"
   ]
  },
  {
   "cell_type": "code",
   "execution_count": 24,
   "metadata": {},
   "outputs": [],
   "source": [
    "class ReplayBuffer:\n",
    "    def __init__(self, capacity):\n",
    "        self.buffer = deque(maxlen=capacity)\n",
    "    \n",
    "    def push(self, state, action, reward, next_state, done, truncated):\n",
    "        for i in range(len(state)):\n",
    "            self.buffer.append((state[i], action[i], reward[i], next_state[i], done[i], truncated[i]))\n",
    "    \n",
    "    def sample(self, batch_size):\n",
    "        batch = random.sample(self.buffer, batch_size)\n",
    "        states, actions, rewards, next_states, dones, truncations = zip(*batch)\n",
    "        return (torch.tensor(states, dtype=torch.float32),\n",
    "                torch.tensor(actions, dtype=torch.int64),\n",
    "                torch.tensor(rewards, dtype=torch.float32),\n",
    "                torch.tensor(next_states, dtype=torch.float32),\n",
    "                torch.tensor(dones, dtype=torch.float32),\n",
    "                torch.tensor(truncations, dtype=torch.float32))\n",
    "\n",
    "    def __len__(self):\n",
    "        return len(self.buffer)"
   ]
  },
  {
   "cell_type": "code",
   "execution_count": 25,
   "metadata": {},
   "outputs": [
    {
     "data": {
      "image/png": "[encoded data removed]",
      "text/plain": [
       "<Figure size 640x480 with 1 Axes>"
      ]
     },
     "metadata": {},
     "output_type": "display_data"
    },
    {
     "name": "stderr",
     "output_type": "stream",
     "text": [
      "100%|██████████| 100000/100000 [07:44<00:00, 215.38it/s]\n"
     ]
    }
   ],
   "source": [
    "state_dim = env.observation_space.shape[-1]\n",
    "action_dim = 4\n",
    "\n",
    "policy_net = DQN(state_dim, action_dim)\n",
    "target_net = DQN(state_dim, action_dim)\n",
    "target_net.load_state_dict(policy_net.state_dict())\n",
    "target_net.eval()\n",
    "\n",
    "optimizer = optim.Adam(policy_net.parameters(), lr=LR)\n",
    "replay_buffer = ReplayBuffer(MEMORY_SIZE)\n",
    "\n",
    "epsilon = EPSILON_START\n",
    "epsilon_decay = (EPSILON_START - EPSILON_END) / 50000\n",
    "\n",
    "\n",
    "state, _ = env.reset()\n",
    "state = np.array(state, dtype=np.float32)\n",
    "total_reward = 0\n",
    "success_list = []\n",
    "\n",
    "for steps in tqdm(range(100000)):\n",
    "\n",
    "    # Epsilon-greedy policy\n",
    "    if random.random() < epsilon:\n",
    "        action = env.action_space.sample()\n",
    "    else:\n",
    "        with torch.no_grad():\n",
    "            action = policy_net(torch.tensor(state)).argmax(axis=1)\n",
    "\n",
    "    \n",
    "    next_state, reward, done, truncated, info = env.step(action)\n",
    "    next_state = np.array(next_state, dtype=np.float32)\n",
    "    \n",
    "    # print(action, reward, truncated)\n",
    "    replay_buffer.push(state, action, reward, next_state, done, truncated)\n",
    "\n",
    "    state = next_state\n",
    "    total_reward += reward\n",
    "\n",
    "    # Train the network\n",
    "    for _ in range(1):\n",
    "        if len(replay_buffer) > BATCH_SIZE:\n",
    "            states, actions, rewards, next_states, dones, truncations = replay_buffer.sample(BATCH_SIZE)\n",
    "\n",
    "            q_values = policy_net(states).gather(1, actions.unsqueeze(1)).squeeze(1)\n",
    "            next_q_values = target_net(next_states).max(1)[0]\n",
    "\n",
    "            # Consider truncation: If truncated but not done, allow future rewards\n",
    "            mask = 1 - dones * (1 - truncations)\n",
    "            target_q_values = rewards + GAMMA * next_q_values * mask\n",
    "\n",
    "            loss = nn.functional.mse_loss(q_values, target_q_values.detach())\n",
    "\n",
    "            optimizer.zero_grad()\n",
    "            loss.backward()\n",
    "            optimizer.step()\n",
    "        \n",
    "\n",
    "    # Update target network\n",
    "    if steps % 8 == 0:\n",
    "        target_net.load_state_dict(policy_net.state_dict())\n",
    "\n",
    "    success_list += reward[done | truncated].tolist()\n",
    "\n",
    "    # Decay epsilon\n",
    "    epsilon = max(EPSILON_END, epsilon - epsilon_decay)\n",
    "    # print(epsilon)\n",
    "\n",
    "    # print(f\"Episode {episode + 1}, Total Reward: {total_reward}\")\n",
    "    if steps % 50 == 0:\n",
    "        clear_output(True)\n",
    "        # plt.plot(success_list)\n",
    "        plt.plot(moving_average(success_list, window_size=100))\n",
    "        plt.show()\n"
   ]
  },
  {
   "cell_type": "code",
   "execution_count": 34,
   "metadata": {},
   "outputs": [
    {
     "data": {
      "image/png": "[encoded data removed]",
      "text/plain": [
       "<Figure size 600x600 with 1 Axes>"
      ]
     },
     "metadata": {},
     "output_type": "display_data"
    }
   ],
   "source": [
    "eval_env = make_env()\n",
    "\n",
    "state, _ = eval_env.reset()\n",
    "state = np.array(state, dtype=np.float32)\n",
    "\n",
    "for _ in range(20):\n",
    "\n",
    "    with torch.no_grad():\n",
    "        action = policy_net(torch.tensor(state).unsqueeze(0)).argmax(axis=1)[0].item()\n",
    "    \n",
    "    next_state, reward, done, truncated, info = eval_env.step(action)\n",
    "    next_state = np.array(next_state, dtype=np.float32)\n",
    "    \n",
    "\n",
    "    state = next_state\n",
    "    # if done | truncated\n",
    "    \n",
    "    clear_output(True)\n",
    "    eval_env.unwrapped.visualize_maze()\n",
    "    "
   ]
  },
  {
   "cell_type": "code",
   "execution_count": 605,
   "metadata": {},
   "outputs": [
    {
     "data": {
      "text/plain": [
       "0.05"
      ]
     },
     "execution_count": 605,
     "metadata": {},
     "output_type": "execute_result"
    }
   ],
   "source": [
    "epsilon"
   ]
  },
  {
   "cell_type": "code",
   "execution_count": null,
   "metadata": {},
   "outputs": [],
   "source": []
  }
 ],
 "metadata": {
  "kernelspec": {
   "display_name": "Python 3",
   "language": "python",
   "name": "python3"
  },
  "language_info": {
   "codemirror_mode": {
    "name": "ipython",
    "version": 3
   },
   "file_extension": ".py",
   "mimetype": "text/x-python",
   "name": "python",
   "nbconvert_exporter": "python",
   "pygments_lexer": "ipython3",
   "version": "3.10.12"
  }
 },
 "nbformat": 4,
 "nbformat_minor": 2
}
